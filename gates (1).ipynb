{
  "nbformat": 4,
  "nbformat_minor": 0,
  "metadata": {
    "colab": {
      "provenance": []
    },
    "kernelspec": {
      "name": "python3",
      "display_name": "Python 3"
    },
    "language_info": {
      "name": "python"
    }
  },
  "cells": [
    {
      "cell_type": "code",
      "execution_count": null,
      "metadata": {
        "colab": {
          "base_uri": "https://localhost:8080/"
        },
        "id": "FL9eQ34A5w_i",
        "outputId": "962f9221-2838-46db-a130-32b72890b60c"
      },
      "outputs": [
        {
          "output_type": "stream",
          "name": "stdout",
          "text": [
            "1\n"
          ]
        }
      ],
      "source": [
        "def or_gate(x1, x2):\n",
        "    if x1 == 1 or x2 == 1:\n",
        "        return 1\n",
        "    else:\n",
        "        return 0\n",
        "print (or_gate(1,2))"
      ]
    },
    {
      "cell_type": "code",
      "source": [
        "def not_gate(x):\n",
        "\n",
        "  if x == 0:\n",
        "    return 1\n",
        "  elif x == 1:\n",
        "    return 0\n",
        "print (not_gate(0))"
      ],
      "metadata": {
        "colab": {
          "base_uri": "https://localhost:8080/"
        },
        "id": "fWQkbdodCB7y",
        "outputId": "f7d6988e-6b93-4053-ef8f-8ab4d700799a"
      },
      "execution_count": null,
      "outputs": [
        {
          "output_type": "stream",
          "name": "stdout",
          "text": [
            "1\n"
          ]
        }
      ]
    },
    {
      "cell_type": "code",
      "source": [
        "def nor_gate(x, y):\n",
        "\n",
        "  if x == 0 and y == 0:\n",
        "    return 1\n",
        "  else:\n",
        "    return 0\n",
        "print (nor_gate(1,0))"
      ],
      "metadata": {
        "colab": {
          "base_uri": "https://localhost:8080/"
        },
        "id": "WDHngOZpM79G",
        "outputId": "12784463-f024-48e2-c9d7-21f8c83e4e31"
      },
      "execution_count": null,
      "outputs": [
        {
          "output_type": "stream",
          "name": "stdout",
          "text": [
            "0\n"
          ]
        }
      ]
    },
    {
      "cell_type": "code",
      "source": [
        "def OR(a, b):\n",
        "\tif a == 1 or b ==1:\n",
        "\t\treturn True\n",
        "\telse:\n",
        "\t\treturn False\n",
        "if __name__=='__main__':\n",
        "\tprint(OR(0, 0))\n",
        "\n",
        "\tprint(\"+---------------+----------------+\")\n",
        "\tprint(\" | OR Truth Table | Result |\")\n",
        "\tprint(\" A = False, B = False | A OR B =\",OR(False,False),\" | \")\n",
        "\tprint(\" A = False, B = True | A OR B =\",OR(False,True),\" | \")\n",
        "\tprint(\" A = True, B = False | A OR B =\",OR(True,False),\" | \")\n",
        "\tprint(\" A = True, B = True | A OR B =\",OR(True,True),\" | \")\n"
      ],
      "metadata": {
        "colab": {
          "base_uri": "https://localhost:8080/"
        },
        "id": "PlVgVCtoBu_a",
        "outputId": "f7f953b8-7efb-4aeb-dbc6-f8c8381dae06"
      },
      "execution_count": null,
      "outputs": [
        {
          "output_type": "stream",
          "name": "stdout",
          "text": [
            "False\n",
            "+---------------+----------------+\n",
            " | OR Truth Table | Result |\n",
            " A = False, B = False | A OR B = False  | \n",
            " A = False, B = True | A OR B = True  | \n",
            " A = True, B = False | A OR B = True  | \n",
            " A = True, B = True | A OR B = True  | \n"
          ]
        }
      ]
    },
    {
      "cell_type": "code",
      "source": [
        "def and_gate(x1, x2):\n",
        "    if x1 == 1 and x2 == 1:\n",
        "        return 1\n",
        "    else:\n",
        "        return 0\n",
        "print (and_gate(1,0))\n"
      ],
      "metadata": {
        "colab": {
          "base_uri": "https://localhost:8080/"
        },
        "id": "aIB3Hah_6-V8",
        "outputId": "6cc75b3d-f7f3-4dc1-9859-cb93b65f9d62"
      },
      "execution_count": null,
      "outputs": [
        {
          "output_type": "stream",
          "name": "stdout",
          "text": [
            "0\n"
          ]
        }
      ]
    }
  ]
}